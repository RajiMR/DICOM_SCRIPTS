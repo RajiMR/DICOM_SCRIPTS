{
 "cells": [
  {
   "cell_type": "code",
   "execution_count": 5,
   "id": "9a38503f-8c31-4a55-a64b-33075c9b226f",
   "metadata": {},
   "outputs": [],
   "source": [
    "###Convert Dicom2Nifti\n",
    "import os, datetime, csv\n",
    "import subprocess\n",
    "from itertools import islice\n",
    "import pandas as pd\n",
    "import pydicom\n",
    "import nibabel as nib\n",
    "import dicom2nifti\n",
    "\n",
    "def convert_dcm_to_nii(dcm_dir, nii_out_path):\n",
    "    \"\"\"Converts DICOM files in a directory to a NIfTI file.\"\"\"\n",
    "    dicom2nifti.convert_directory(dcm_dir, nii_out_path, compression=True, reorient=True)\n",
    "\n",
    "data = pd.read_csv('.csv', sep = \",\")\n",
    "df = pd.DataFrame(data)\n",
    "\n",
    "destination = ''\n",
    "\n",
    "for index, row in df.iloc[0:1].iterrows(): \n",
    "    #print(row)\n",
    "    pid = row['PatientID']\n",
    "    studyDate = row['StudyDate']\n",
    "\n",
    "    # Convert the string to a datetime object\n",
    "    date_object = datetime.datetime.strptime(studyDate, \"%Y-%m-%d\")\n",
    "    date = date_object.strftime('%Y%m%d')\n",
    "    \n",
    "    studyId = row['StudyInstanceUID']\n",
    "    seriesId = row['DTI_SeriesInstanceUID']\n",
    "  \n",
    "    path2dcm = os.path.join(destination, str(pid), 'dicom',  date, studyId, seriesId)\n",
    "    path2nii = os.path.join(destination, str(pid), 'nifti')\n",
    "\n",
    "    convert_dcm_to_nii(path2dcm, path2nii)   "
   ]
  },
  {
   "cell_type": "code",
   "execution_count": 6,
   "id": "b96a6099-0a74-4b3e-b697-f46009efe8d5",
   "metadata": {},
   "outputs": [
    {
     "name": "stdout",
     "output_type": "stream",
     "text": [
      "1008684\n"
     ]
    }
   ],
   "source": [
    "import SimpleITK as sitk\n",
    "import glob\n",
    "\n",
    "data = pd.read_csv('.csv', sep = \",\")\n",
    "df = pd.DataFrame(data)\n",
    "\n",
    "destination = ''\n",
    "\n",
    "for index, row in df.iloc[0:1].iterrows(): \n",
    "    pid = row['PatientID']\n",
    "    print(pid)\n",
    "\n",
    "    #os.remove(os.path.join(destination, str(pid), 'nifti', 'dwi.nii.gz'))\n",
    "    filename = '*_dwi.nii.gz'\n",
    "    filepath = glob.glob(os.path.join(destination, str(pid), 'nifti', filename ))\n",
    "\n",
    "    # Load the image\n",
    "    image = sitk.ReadImage(filepath)\n",
    "\n",
    "    # Get the size of the image\n",
    "    size = image.GetSize()\n",
    "\n",
    "    # Iterate over the 4th dimension (time)\n",
    "    for t in range(size[3]):\n",
    "        # Extract the 3D volume at time t\n",
    "        volume = image[:, :, :, t]\n",
    "\n",
    "        # Do something with the volume, e.g., save it\n",
    "        dwi_out = os.path.join(destination, str(pid), 'nifti', f'dwi_{t}.nii.gz')\n",
    "        sitk.WriteImage(volume, dwi_out)"
   ]
  }
 ],
 "metadata": {
  "kernelspec": {
   "display_name": "Python 3 (ipykernel)",
   "language": "python",
   "name": "python3"
  },
  "language_info": {
   "codemirror_mode": {
    "name": "ipython",
    "version": 3
   },
   "file_extension": ".py",
   "mimetype": "text/x-python",
   "name": "python",
   "nbconvert_exporter": "python",
   "pygments_lexer": "ipython3",
   "version": "3.11.10"
  }
 },
 "nbformat": 4,
 "nbformat_minor": 5
}
