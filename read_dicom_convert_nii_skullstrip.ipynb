{
 "cells": [
  {
   "cell_type": "code",
   "execution_count": 99,
   "id": "2423f82c-540c-4093-814a-67d10bf04bdb",
   "metadata": {},
   "outputs": [],
   "source": [
    "import os\n",
    "import pandas as pd\n",
    "import pydicom\n",
    "from pydicom import dcmread\n",
    "from pydicom.fileset import FileSet\n",
    "import os, datetime\n",
    "\n",
    "def read_folders(path):\n",
    "    \"\"\"\n",
    "    Reads all folders in the given path.\n",
    "    Args:\n",
    "        path (str): The path to the directory.\n",
    "    Returns:\n",
    "        list: A list of folder names in the directory.\n",
    "    \"\"\"\n",
    "    folderName = []\n",
    "    fileName = []\n",
    "    seriesNum = []\n",
    "    try:\n",
    "        for item in os.listdir(path):\n",
    "            item_path = os.path.join(path, item)\n",
    "            #print(item_path)\n",
    "            if os.path.isdir(item_path):\n",
    "                firstfile = os.listdir(item_path)[0]\n",
    "                file_path = os.path.join(item_path, firstfile)\n",
    "                #print(file_path)\n",
    "                if os.path.isfile(file_path):\n",
    "                    header_data = dcmread(file_path)\n",
    "                    pid = header_data.PatientID\n",
    "                    mod = header_data.SeriesDescription  \n",
    "                    series = header_data.SeriesNumber\n",
    "                    folderName.append(item)\n",
    "                    fileName.append(mod)\n",
    "                    seriesNum.append(series)\n",
    "\n",
    "    except FileNotFoundError:\n",
    "        print(f\"Error: Directory not found: {path}\")\n",
    "        return None\n",
    "    except PermissionError:\n",
    "        print(f\"Error: Permission denied: {path}\")\n",
    "        return None\n",
    "    return folderName, seriesNum, fileName, pid"
   ]
  },
  {
   "cell_type": "code",
   "execution_count": null,
   "id": "7065b898-1489-4616-9489-5a59d976757e",
   "metadata": {},
   "outputs": [],
   "source": [
    "destination = \n",
    "dicomFolder = \n",
    "\n",
    "fname, series, mod, pid = read_folders(dicomFolder)\n",
    "\n",
    "df = pd.DataFrame([fname, series, mod]).T\n",
    "df.columns = ['Folder', 'SereisNumber', 'SeriesDescription']\n",
    "dataFile = os.path.join(destination,pid + '_modalities.csv')\n",
    "df.to_csv(dataFile)"
   ]
  },
  {
   "cell_type": "code",
   "execution_count": null,
   "id": "8206361c-aa14-4a99-bf00-42879598b9d8",
   "metadata": {},
   "outputs": [],
   "source": [
    "import SimpleITK as sitk\n",
    "import os, glob, subprocess\n",
    "import dicom2nifti\n",
    "import pandas as pd\n",
    "import pydicom\n",
    "from pydicom import dcmread\n",
    "from pydicom.fileset import FileSet\n",
    "\n",
    "def read_folders(path):\n",
    "    \"\"\"\n",
    "    Reads all folders in the given path.\n",
    "    Args:\n",
    "        path (str): The path to the directory.\n",
    "    Returns:\n",
    "        list: A list of folder names in the directory.\n",
    "    \"\"\"\n",
    "    folderName = []\n",
    "    fileName = []\n",
    "    seriesNum = []\n",
    "    try:\n",
    "        for item in os.listdir(path):\n",
    "            item_path = os.path.join(path, item)\n",
    "            #print(item_path)\n",
    "            if os.path.isdir(item_path):\n",
    "                firstfile = os.listdir(item_path)[0]\n",
    "                file_path = os.path.join(item_path, firstfile)\n",
    "                #print(file_path)\n",
    "                if os.path.isfile(file_path):\n",
    "                    header_data = dcmread(file_path)\n",
    "                    pid = header_data.PatientID\n",
    "                    mod = header_data.SeriesDescription  \n",
    "                    series = header_data.SeriesNumber\n",
    "                    folderName.append(item)\n",
    "                    fileName.append(mod)\n",
    "                    seriesNum.append(series)\n",
    "\n",
    "    except FileNotFoundError:\n",
    "        print(f\"Error: Directory not found: {path}\")\n",
    "        return None\n",
    "    except PermissionError:\n",
    "        print(f\"Error: Permission denied: {path}\")\n",
    "        return None\n",
    "    return folderName, seriesNum, fileName, pid\n",
    "\n",
    "def convert_dcm_to_nii(dcm_dir, nii_out_path):\n",
    "    \"\"\"Converts DICOM files in a directory to a NIfTI file.\"\"\"\n",
    "    dicom2nifti.convert_directory(dcm_dir, nii_out_path, compression=True, reorient=True)"
   ]
  },
  {
   "cell_type": "code",
   "execution_count": 100,
   "id": "d5017d7b-e670-4ca8-b4c8-9caf5313a21c",
   "metadata": {},
   "outputs": [
    {
     "name": "stderr",
     "output_type": "stream",
     "text": [
      "/rsrch1/ip/rmuthusivarajan/conda_env/lib/python3.11/site-packages/nnunetv2/inference/predict_from_raw_data.py:84: FutureWarning: You are using `torch.load` with `weights_only=False` (the current default value), which uses the default pickle module implicitly. It is possible to construct malicious pickle data which will execute arbitrary code during unpickling (See https://github.com/pytorch/pytorch/blob/main/SECURITY.md#untrusted-models for more details). In a future release, the default value for `weights_only` will be flipped to `True`. This limits the functions that could be executed during unpickling. Arbitrary objects will no longer be allowed to be loaded via this mode unless they are explicitly allowlisted by the user via `torch.serialization.add_safe_globals`. We recommend you start setting `weights_only=True` for any use case where you don't have full control of the loaded file. Please open an issue on GitHub for any issues related to this experimental feature.\n",
      "  checkpoint = torch.load(join(model_training_output_dir, f'fold_{f}', checkpoint_name),\n"
     ]
    },
    {
     "name": "stdout",
     "output_type": "stream",
     "text": [
      "\n",
      "########################\n",
      "If you are using hd-bet, please cite the following papers:\n",
      "\n",
      "Isensee F, Schell M, Tursunova I, Brugnara G, Bonekamp D, Neuberger U, Wick A, Schlemmer HP, Heiland S, Wick W, Bendszus M, Maier-Hein KH, Kickingereder P. Automated brain extraction of multi-sequence MRI using artificial neural networks. arXiv preprint arXiv:1901.11341, 2019.\n",
      "\n",
      "Isensee, F., Jaeger, P. F., Kohl, S. A., Petersen, J., & Maier-Hein, K. H. (2021). nnU-Net: a self-configuring method for deep learning-based biomedical image segmentation. Nature methods, 18(2), 203-211.\n",
      "########################\n",
      "\n",
      "There are 1 cases in the source folder\n",
      "I am process 0 out of 1 (max process ID is 0, we start counting with 0!)\n",
      "There are 1 cases that I would like to predict\n",
      "\n",
      "Predicting dsc_ss_bet.nii.gz:\n",
      "perform_everything_on_device: True\n"
     ]
    },
    {
     "name": "stderr",
     "output_type": "stream",
     "text": [
      "100%|██████████| 8/8 [00:06<00:00,  1.23it/s]\n"
     ]
    },
    {
     "name": "stdout",
     "output_type": "stream",
     "text": [
      "sending off prediction to background worker for resampling and export\n",
      "done with dsc_ss_bet.nii.gz\n"
     ]
    },
    {
     "name": "stderr",
     "output_type": "stream",
     "text": [
      "/rsrch1/ip/rmuthusivarajan/conda_env/lib/python3.11/site-packages/nnunetv2/inference/predict_from_raw_data.py:84: FutureWarning: You are using `torch.load` with `weights_only=False` (the current default value), which uses the default pickle module implicitly. It is possible to construct malicious pickle data which will execute arbitrary code during unpickling (See https://github.com/pytorch/pytorch/blob/main/SECURITY.md#untrusted-models for more details). In a future release, the default value for `weights_only` will be flipped to `True`. This limits the functions that could be executed during unpickling. Arbitrary objects will no longer be allowed to be loaded via this mode unless they are explicitly allowlisted by the user via `torch.serialization.add_safe_globals`. We recommend you start setting `weights_only=True` for any use case where you don't have full control of the loaded file. Please open an issue on GitHub for any issues related to this experimental feature.\n",
      "  checkpoint = torch.load(join(model_training_output_dir, f'fold_{f}', checkpoint_name),\n"
     ]
    },
    {
     "name": "stdout",
     "output_type": "stream",
     "text": [
      "\n",
      "########################\n",
      "If you are using hd-bet, please cite the following papers:\n",
      "\n",
      "Isensee F, Schell M, Tursunova I, Brugnara G, Bonekamp D, Neuberger U, Wick A, Schlemmer HP, Heiland S, Wick W, Bendszus M, Maier-Hein KH, Kickingereder P. Automated brain extraction of multi-sequence MRI using artificial neural networks. arXiv preprint arXiv:1901.11341, 2019.\n",
      "\n",
      "Isensee, F., Jaeger, P. F., Kohl, S. A., Petersen, J., & Maier-Hein, K. H. (2021). nnU-Net: a self-configuring method for deep learning-based biomedical image segmentation. Nature methods, 18(2), 203-211.\n",
      "########################\n",
      "\n",
      "There are 1 cases in the source folder\n",
      "I am process 0 out of 1 (max process ID is 0, we start counting with 0!)\n",
      "There are 1 cases that I would like to predict\n",
      "\n",
      "Predicting dce_ss_bet.nii.gz:\n",
      "perform_everything_on_device: True\n"
     ]
    },
    {
     "name": "stderr",
     "output_type": "stream",
     "text": [
      "100%|██████████| 4/4 [00:03<00:00,  1.06it/s]\n"
     ]
    },
    {
     "name": "stdout",
     "output_type": "stream",
     "text": [
      "sending off prediction to background worker for resampling and export\n",
      "done with dce_ss_bet.nii.gz\n"
     ]
    },
    {
     "name": "stderr",
     "output_type": "stream",
     "text": [
      "/rsrch1/ip/rmuthusivarajan/conda_env/lib/python3.11/site-packages/nnunetv2/inference/predict_from_raw_data.py:84: FutureWarning: You are using `torch.load` with `weights_only=False` (the current default value), which uses the default pickle module implicitly. It is possible to construct malicious pickle data which will execute arbitrary code during unpickling (See https://github.com/pytorch/pytorch/blob/main/SECURITY.md#untrusted-models for more details). In a future release, the default value for `weights_only` will be flipped to `True`. This limits the functions that could be executed during unpickling. Arbitrary objects will no longer be allowed to be loaded via this mode unless they are explicitly allowlisted by the user via `torch.serialization.add_safe_globals`. We recommend you start setting `weights_only=True` for any use case where you don't have full control of the loaded file. Please open an issue on GitHub for any issues related to this experimental feature.\n",
      "  checkpoint = torch.load(join(model_training_output_dir, f'fold_{f}', checkpoint_name),\n"
     ]
    },
    {
     "name": "stdout",
     "output_type": "stream",
     "text": [
      "\n",
      "########################\n",
      "If you are using hd-bet, please cite the following papers:\n",
      "\n",
      "Isensee F, Schell M, Tursunova I, Brugnara G, Bonekamp D, Neuberger U, Wick A, Schlemmer HP, Heiland S, Wick W, Bendszus M, Maier-Hein KH, Kickingereder P. Automated brain extraction of multi-sequence MRI using artificial neural networks. arXiv preprint arXiv:1901.11341, 2019.\n",
      "\n",
      "Isensee, F., Jaeger, P. F., Kohl, S. A., Petersen, J., & Maier-Hein, K. H. (2021). nnU-Net: a self-configuring method for deep learning-based biomedical image segmentation. Nature methods, 18(2), 203-211.\n",
      "########################\n",
      "\n",
      "There are 1 cases in the source folder\n",
      "I am process 0 out of 1 (max process ID is 0, we start counting with 0!)\n",
      "There are 1 cases that I would like to predict\n",
      "\n",
      "Predicting ktrans_ss_bet.nii.gz:\n",
      "perform_everything_on_device: True\n"
     ]
    },
    {
     "name": "stderr",
     "output_type": "stream",
     "text": [
      "100%|██████████| 4/4 [00:03<00:00,  1.06it/s]\n"
     ]
    },
    {
     "name": "stdout",
     "output_type": "stream",
     "text": [
      "sending off prediction to background worker for resampling and export\n",
      "done with ktrans_ss_bet.nii.gz\n"
     ]
    },
    {
     "name": "stderr",
     "output_type": "stream",
     "text": [
      "/rsrch1/ip/rmuthusivarajan/conda_env/lib/python3.11/site-packages/nnunetv2/inference/predict_from_raw_data.py:84: FutureWarning: You are using `torch.load` with `weights_only=False` (the current default value), which uses the default pickle module implicitly. It is possible to construct malicious pickle data which will execute arbitrary code during unpickling (See https://github.com/pytorch/pytorch/blob/main/SECURITY.md#untrusted-models for more details). In a future release, the default value for `weights_only` will be flipped to `True`. This limits the functions that could be executed during unpickling. Arbitrary objects will no longer be allowed to be loaded via this mode unless they are explicitly allowlisted by the user via `torch.serialization.add_safe_globals`. We recommend you start setting `weights_only=True` for any use case where you don't have full control of the loaded file. Please open an issue on GitHub for any issues related to this experimental feature.\n",
      "  checkpoint = torch.load(join(model_training_output_dir, f'fold_{f}', checkpoint_name),\n"
     ]
    },
    {
     "name": "stdout",
     "output_type": "stream",
     "text": [
      "\n",
      "########################\n",
      "If you are using hd-bet, please cite the following papers:\n",
      "\n",
      "Isensee F, Schell M, Tursunova I, Brugnara G, Bonekamp D, Neuberger U, Wick A, Schlemmer HP, Heiland S, Wick W, Bendszus M, Maier-Hein KH, Kickingereder P. Automated brain extraction of multi-sequence MRI using artificial neural networks. arXiv preprint arXiv:1901.11341, 2019.\n",
      "\n",
      "Isensee, F., Jaeger, P. F., Kohl, S. A., Petersen, J., & Maier-Hein, K. H. (2021). nnU-Net: a self-configuring method for deep learning-based biomedical image segmentation. Nature methods, 18(2), 203-211.\n",
      "########################\n",
      "\n",
      "There are 1 cases in the source folder\n",
      "I am process 0 out of 1 (max process ID is 0, we start counting with 0!)\n",
      "There are 1 cases that I would like to predict\n",
      "\n",
      "Predicting cbv_ss_bet.nii.gz:\n",
      "perform_everything_on_device: True\n"
     ]
    },
    {
     "name": "stderr",
     "output_type": "stream",
     "text": [
      "100%|██████████| 4/4 [00:03<00:00,  1.07it/s]\n"
     ]
    },
    {
     "name": "stdout",
     "output_type": "stream",
     "text": [
      "sending off prediction to background worker for resampling and export\n",
      "done with cbv_ss_bet.nii.gz\n"
     ]
    }
   ],
   "source": [
    "dicomFolder = \n",
    "destination = \n",
    "\n",
    "fname, series, mod, pid = read_folders(dicomFolder)\n",
    "\n",
    "df = pd.DataFrame([fname, series, mod]).T\n",
    "df.columns = ['Folder', 'SereisNumber', 'SeriesDescription']\n",
    "dataFile = os.path.join(destination,pid + '_modalities.csv')\n",
    "df.to_csv(dataFile)\n",
    "data = pd.read_csv(dataFile))\n",
    "\n",
    "images = {'dti': 'DTI Tractography', 'avgdc': 'AvDC (10^-6 mm²/s): b1000', 'dsc': 'Ax DSC-GRE', 'dce': 'Ax DCE', 'ktrans': 'IB Extended Tofts Ktrans (linear)', 'cbv': 'IB rCBV (leakage-corrected)'}\n",
    "\n",
    "for mod, image in images.items():\n",
    "    matched_idx = dataFile[dataFile['SeriesDescription'] == image].index[0]\n",
    "    value = dataFile.loc[matched_idx, 'Folder']\n",
    "\n",
    "    path2dcm = os.path.join(dicomFolder, value)   \n",
    "    os.makedirs(os.path.join(destination, 'conv/nifti', mod), exist_ok = True)\n",
    "    path2nii = os.path.join(destination, 'conv/nifti', mod)\n",
    "    \n",
    "    convert_dcm_to_nii(path2dcm, path2nii) \n",
    "    \n",
    "    path2newnii = glob.glob(os.path.join(destination, 'conv/nifti', mod, '*.nii.gz'))\n",
    "\n",
    "    # Load the image\n",
    "    image = sitk.ReadImage(path2newnii)\n",
    "\n",
    "    # Get the size of the image\n",
    "    size = image.GetSize()\n",
    "\n",
    "    # Iterate over the 4th dimension (time)\n",
    "    for t in range(size[3]):\n",
    "        # Extract the 3D volume at time t\n",
    "        volume = image[:, :, :, t]\n",
    "\n",
    "        # Do something with the volume, e.g., save it\n",
    "        dti_out = os.path.join(destination, 'conv/nifti', mod, f'{mod}_{t}.nii.gz')\n",
    "        sitk.WriteImage(volume, dti_out)\n",
    "\n",
    "    os.makedirs(os.path.join(destination, 'conv/ss'), exist_ok = True)\n",
    "\n",
    "    img = os.path.join(destination, 'conv/nifti', mod, mod + '_0.nii.gz')\n",
    "    img_ss = os.path.join(destination, 'conv/ss', mod + '_ss.nii.gz')\n",
    "\n",
    "    command1 = ['hd-bet', '-i',  img, '-o', img_ss, '--save_bet_mask']\n",
    "    c1 = subprocess.call(command1)\n"
   ]
  }
 ],
 "metadata": {
  "kernelspec": {
   "display_name": "Python 3 (ipykernel)",
   "language": "python",
   "name": "python3"
  },
  "language_info": {
   "codemirror_mode": {
    "name": "ipython",
    "version": 3
   },
   "file_extension": ".py",
   "mimetype": "text/x-python",
   "name": "python",
   "nbconvert_exporter": "python",
   "pygments_lexer": "ipython3",
   "version": "3.11.10"
  }
 },
 "nbformat": 4,
 "nbformat_minor": 5
}
