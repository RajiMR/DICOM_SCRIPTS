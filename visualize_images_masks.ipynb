{
 "cells": [
  {
   "cell_type": "code",
   "execution_count": null,
   "id": "9c81025e",
   "metadata": {},
   "outputs": [],
   "source": [
    "import os\n",
    "import csv\n",
    "\n",
    "from nilearn.image import load_img\n",
    "from nilearn import plotting\n",
    "from nilearn.plotting import plot_anat, plot_img, show\n",
    "from matplotlib import pyplot as plt\n",
    "\n",
    "#Input file location - csv format\n",
    "destination = #path to image location\n",
    "filepath = os.path.join(destination,#filename)\n",
    "\n",
    "#Save output files to directory\n",
    "os.mkdir(os.path.join(destination,'pdfImages'))\n",
    "\n",
    "with open(filepath)as f:    \n",
    "\n",
    "        for row in csv.DictReader(f):\n",
    "            pid = row['MRN']            \n",
    "            t1c = row['t1c']\n",
    "            mask = row['mask']\n",
    "            \n",
    "            t1c_img = load_img(t1c)\n",
    "            mask_img = load_img(mask)\n",
    "\n",
    "            fig, axes = plt.subplots(figsize=(20, 5), nrows=2) \n",
    "            #plt.suptitle('PatientId - ' + pid)\n",
    "                        \n",
    "            #display_mode x:sagittal or y:coronal or z:axial           \n",
    "            display = plotting.plot_anat(t1c_img,display_mode='z',cut_coords = [0,10,20,30],title= 'mask_overlay',axes=axes[0])\n",
    "            display.add_overlay(mask_img,cmap=plotting.cm.purple_green) \n",
    "\n",
    "            display = plotting.plot_anat(t1c_img,display_mode='z',cut_coords = [0,10,20,30],title='mask_contour',axes=axes[1])\n",
    "            display.add_contours(mask_img,colors=['blue'] ,linewidths=0.2) \n",
    "\n",
    "            outfile = os.path.join(destination,'pdfImages', 'img_overlay_' + str(pid) + '.pdf')\n",
    "\n",
    "            fig.savefig(outfile)\n",
    "            #display.close()"
   ]
  }
 ],
 "metadata": {
  "kernelspec": {
   "display_name": "Python 3 (ipykernel)",
   "language": "python",
   "name": "python3"
  },
  "language_info": {
   "codemirror_mode": {
    "name": "ipython",
    "version": 3
   },
   "file_extension": ".py",
   "mimetype": "text/x-python",
   "name": "python",
   "nbconvert_exporter": "python",
   "pygments_lexer": "ipython3",
   "version": "3.9.12"
  }
 },
 "nbformat": 4,
 "nbformat_minor": 5
}
