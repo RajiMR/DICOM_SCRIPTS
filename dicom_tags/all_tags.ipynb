{
 "cells": [
  {
   "cell_type": "code",
   "execution_count": 2,
   "id": "d4c54e5e-b33e-4c73-b2cd-1a5548978c17",
   "metadata": {},
   "outputs": [],
   "source": [
    "import pydicom\n",
    "import csv, os\n",
    "import pandas as pd\n",
    "\n",
    "def get_dicom_tags_to_csv(dicom_folder, csv_filepath):\n",
    "    \"\"\"Extract tags from a DICOM file and save them to a CSV file.\"\"\"\n",
    "    filename = os.listdir(dicom_folder)[0]\n",
    "    file_path = os.path.join(dicom_folder, filename)\n",
    "    df = pd.DataFrame()\n",
    "    \n",
    "    with pydicom.dcmread(file_path) as ds:\n",
    "       \n",
    "        for elem in ds:\n",
    "            #print(elem)\n",
    "            tag = str(elem.tag)\n",
    "            name = elem.name\n",
    "            vr = elem.VR\n",
    "            value = str(elem.value)\n",
    "\n",
    "            file_content = [tag, name, vr, value]\n",
    "            para = pd.DataFrame(file_content).T \n",
    "            df = pd.concat([df, para], ignore_index=True)\n",
    "    \n",
    "    foldername = ds.PatientID  \n",
    "    filename = ds.SeriesDescription\n",
    "    \n",
    "    os.makedirs(os.path.join(csv_filepath, foldername), exist_ok=True)\n",
    "    outFile = os.path.join(csv_filepath, foldername, filename + '.csv')\n",
    "    \n",
    "    df.columns=['Tag', 'Name', 'VR', 'Value']\n",
    "    df.to_csv(outFile, index=False)\n",
    "\n",
    "\n",
    "#if __name__ == \"__main__\":"
   ]
  },
  {
   "cell_type": "code",
   "execution_count": 3,
   "id": "2212e783-abff-4de5-a5c0-cc9a8860083a",
   "metadata": {},
   "outputs": [],
   "source": [
    "#Dicom file path\n",
    "\n",
    "dicom_folder_path = \"\"  \n",
    "csv_file_path =   ''\n",
    "\n",
    "get_dicom_tags_to_csv(dicom_folder_path, csv_file_path)"
   ]
  },
  {
   "cell_type": "code",
   "execution_count": null,
   "id": "3f476b31-06ca-4a58-b4fe-834527e784a3",
   "metadata": {},
   "outputs": [],
   "source": []
  }
 ],
 "metadata": {
  "kernelspec": {
   "display_name": "Python 3 (ipykernel)",
   "language": "python",
   "name": "python3"
  },
  "language_info": {
   "codemirror_mode": {
    "name": "ipython",
    "version": 3
   },
   "file_extension": ".py",
   "mimetype": "text/x-python",
   "name": "python",
   "nbconvert_exporter": "python",
   "pygments_lexer": "ipython3",
   "version": "3.11.10"
  }
 },
 "nbformat": 4,
 "nbformat_minor": 5
}
